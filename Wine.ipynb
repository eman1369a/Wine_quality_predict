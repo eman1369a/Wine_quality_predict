{
  "nbformat": 4,
  "nbformat_minor": 0,
  "metadata": {
    "colab": {
      "name": "Wine.ipynb",
      "provenance": []
    },
    "kernelspec": {
      "name": "python3",
      "display_name": "Python 3"
    },
    "language_info": {
      "name": "python"
    }
  },
  "cells": [
    {
      "cell_type": "code",
      "execution_count": null,
      "metadata": {
        "id": "_q1kyq7q-nT2"
      },
      "outputs": [],
      "source": [
        "import pandas as pd\n",
        "import numpy as np\n",
        "\n",
        "df = pd.read_csv('WineQT.csv')"
      ]
    },
    {
      "cell_type": "markdown",
      "source": [
        "Here is a good beginner dataset to prove my skills. I chose this dataset because im a big fan of wine. I lived in Italy for half a year and have a selective few Italian wines that I would like to know which features are influencing my taste. Although we will analyze if each feature has an influence on Quality our YY variable."
      ],
      "metadata": {
        "id": "A3yx69mnnVL2"
      }
    },
    {
      "cell_type": "code",
      "source": [
        "#First we take a look at the data and its statistics\n",
        "print(df.head(), \"\\n\")\n",
        "print(df.info())\n"
      ],
      "metadata": {
        "colab": {
          "base_uri": "https://localhost:8080/"
        },
        "id": "r6UF1uhd_iRB",
        "outputId": "130bf2b1-5f8c-4b22-dcc0-eac5b1879e1a"
      },
      "execution_count": null,
      "outputs": [
        {
          "output_type": "stream",
          "name": "stdout",
          "text": [
            "   fixed acidity  volatile acidity  citric acid  residual sugar  chlorides  \\\n",
            "0            7.4              0.70         0.00             1.9      0.076   \n",
            "1            7.8              0.88         0.00             2.6      0.098   \n",
            "2            7.8              0.76         0.04             2.3      0.092   \n",
            "3           11.2              0.28         0.56             1.9      0.075   \n",
            "4            7.4              0.70         0.00             1.9      0.076   \n",
            "\n",
            "   free sulfur dioxide  total sulfur dioxide  density    pH  sulphates  \\\n",
            "0                 11.0                  34.0   0.9978  3.51       0.56   \n",
            "1                 25.0                  67.0   0.9968  3.20       0.68   \n",
            "2                 15.0                  54.0   0.9970  3.26       0.65   \n",
            "3                 17.0                  60.0   0.9980  3.16       0.58   \n",
            "4                 11.0                  34.0   0.9978  3.51       0.56   \n",
            "\n",
            "   alcohol  quality  Id  \n",
            "0      9.4        5   0  \n",
            "1      9.8        5   1  \n",
            "2      9.8        5   2  \n",
            "3      9.8        6   3  \n",
            "4      9.4        5   4   \n",
            "\n",
            "<class 'pandas.core.frame.DataFrame'>\n",
            "RangeIndex: 1143 entries, 0 to 1142\n",
            "Data columns (total 13 columns):\n",
            " #   Column                Non-Null Count  Dtype  \n",
            "---  ------                --------------  -----  \n",
            " 0   fixed acidity         1143 non-null   float64\n",
            " 1   volatile acidity      1143 non-null   float64\n",
            " 2   citric acid           1143 non-null   float64\n",
            " 3   residual sugar        1143 non-null   float64\n",
            " 4   chlorides             1143 non-null   float64\n",
            " 5   free sulfur dioxide   1143 non-null   float64\n",
            " 6   total sulfur dioxide  1143 non-null   float64\n",
            " 7   density               1143 non-null   float64\n",
            " 8   pH                    1143 non-null   float64\n",
            " 9   sulphates             1143 non-null   float64\n",
            " 10  alcohol               1143 non-null   float64\n",
            " 11  quality               1143 non-null   int64  \n",
            " 12  Id                    1143 non-null   int64  \n",
            "dtypes: float64(11), int64(2)\n",
            "memory usage: 116.2 KB\n",
            "None\n"
          ]
        }
      ]
    },
    {
      "cell_type": "code",
      "source": [
        "#Here we check if the data had null vallues\n",
        "df.isnull().sum()"
      ],
      "metadata": {
        "colab": {
          "base_uri": "https://localhost:8080/"
        },
        "id": "lfyKgsnI1vFO",
        "outputId": "8279eb3c-e29e-4f98-bc01-a15127bad023"
      },
      "execution_count": null,
      "outputs": [
        {
          "output_type": "execute_result",
          "data": {
            "text/plain": [
              "fixed acidity           0\n",
              "volatile acidity        0\n",
              "citric acid             0\n",
              "residual sugar          0\n",
              "chlorides               0\n",
              "free sulfur dioxide     0\n",
              "total sulfur dioxide    0\n",
              "density                 0\n",
              "pH                      0\n",
              "sulphates               0\n",
              "alcohol                 0\n",
              "quality                 0\n",
              "Id                      0\n",
              "dtype: int64"
            ]
          },
          "metadata": {},
          "execution_count": 5
        }
      ]
    },
    {
      "cell_type": "markdown",
      "source": [
        "Since the data has no null values we can move on to check if the distribution of the data has any outliers or extreme values and to see if they follow a similar type of metric value. If not then we have to scale the data and normalize it."
      ],
      "metadata": {
        "id": "YMffI4dqoMXu"
      }
    },
    {
      "cell_type": "code",
      "source": [
        "import matplotlib.pyplot as plt\n",
        "\n",
        "print(df.describe().T)\n",
        "#Here we will print the distribution of each feature to get an idea of any potential skewness that could have an effect on its classification.\n",
        "cols = df.columns\n",
        "print(list(cols), \"\\n\")\n",
        "\n",
        "fig, axs = plt.subplots(3, 4, figsize=(7, 7))\n",
        "\n",
        "axs[0, 0].hist(df['fixed acidity'])\n",
        "axs[0, 0].set_title('Fixed acidity Dist')\n",
        "\n",
        "axs[0, 1].hist(df['volatile acidity'])\n",
        "axs[0, 1].set_title('Volatile Acidity Dist')\n",
        "\n",
        "axs[0, 2].hist(df['residual sugar'])\n",
        "axs[0, 2].set_title('Residual Sugar Dist')\n",
        "\n",
        "axs[0, 3].hist(df['fixed acidity'])\n",
        "axs[0, 3].set_title('Fixed acidity Dist')\n",
        "\n",
        "axs[1, 0].hist(df['citric acid'])\n",
        "axs[1, 0].set_title('Citric Acid Dist')\n",
        "\n",
        "axs[1, 1].hist(df['chlorides'])\n",
        "axs[1, 1].set_title('Chlorides Dist')\n",
        "\n",
        "axs[1, 2].hist(df['free sulfur dioxide'])\n",
        "axs[1, 2].set_title('Free Sulfur Dioxide Dist')\n",
        "\n",
        "axs[1, 3].hist(df['total sulfur dioxide'])\n",
        "axs[1, 3].set_title('Total Sufur Dioxide Dist')\n",
        "\n",
        "axs[2, 0].hist(df['density'])\n",
        "axs[2, 0].set_title('Density Dist')\n",
        "\n",
        "axs[2, 1].hist(df['pH'])\n",
        "axs[2, 1].set_title('pH Dist')\n",
        "\n",
        "axs[2, 2].hist(df['sulphates'])\n",
        "axs[2, 2].set_title('Sulphates Dist')\n",
        "\n",
        "axs[2, 3].hist(df['alcohol'])\n",
        "axs[2, 3].set_title('Alcohol Dist')\n",
        "\n",
        "plt.tight_layout()\n",
        "plt.show()\n"
      ],
      "metadata": {
        "colab": {
          "base_uri": "https://localhost:8080/",
          "height": 1000
        },
        "id": "7Uar1NRCoqjh",
        "outputId": "59050db7-0553-442d-cac7-5d56dec98b74"
      },
      "execution_count": null,
      "outputs": [
        {
          "output_type": "stream",
          "name": "stdout",
          "text": [
            "                       count        mean         std      min        25%  \\\n",
            "fixed acidity         1143.0    8.311111    1.747595  4.60000    7.10000   \n",
            "volatile acidity      1143.0    0.531339    0.179633  0.12000    0.39250   \n",
            "citric acid           1143.0    0.268364    0.196686  0.00000    0.09000   \n",
            "residual sugar        1143.0    2.532152    1.355917  0.90000    1.90000   \n",
            "chlorides             1143.0    0.086933    0.047267  0.01200    0.07000   \n",
            "free sulfur dioxide   1143.0   15.615486   10.250486  1.00000    7.00000   \n",
            "total sulfur dioxide  1143.0   45.914698   32.782130  6.00000   21.00000   \n",
            "density               1143.0    0.996730    0.001925  0.99007    0.99557   \n",
            "pH                    1143.0    3.311015    0.156664  2.74000    3.20500   \n",
            "sulphates             1143.0    0.657708    0.170399  0.33000    0.55000   \n",
            "alcohol               1143.0   10.442111    1.082196  8.40000    9.50000   \n",
            "quality               1143.0    5.657043    0.805824  3.00000    5.00000   \n",
            "Id                    1143.0  804.969379  463.997116  0.00000  411.00000   \n",
            "\n",
            "                            50%          75%         max  \n",
            "fixed acidity           7.90000     9.100000    15.90000  \n",
            "volatile acidity        0.52000     0.640000     1.58000  \n",
            "citric acid             0.25000     0.420000     1.00000  \n",
            "residual sugar          2.20000     2.600000    15.50000  \n",
            "chlorides               0.07900     0.090000     0.61100  \n",
            "free sulfur dioxide    13.00000    21.000000    68.00000  \n",
            "total sulfur dioxide   37.00000    61.000000   289.00000  \n",
            "density                 0.99668     0.997845     1.00369  \n",
            "pH                      3.31000     3.400000     4.01000  \n",
            "sulphates               0.62000     0.730000     2.00000  \n",
            "alcohol                10.20000    11.100000    14.90000  \n",
            "quality                 6.00000     6.000000     8.00000  \n",
            "Id                    794.00000  1209.500000  1597.00000  \n",
            "['fixed acidity', 'volatile acidity', 'citric acid', 'residual sugar', 'chlorides', 'free sulfur dioxide', 'total sulfur dioxide', 'density', 'pH', 'sulphates', 'alcohol', 'quality', 'Id'] \n",
            "\n"
          ]
        },
        {
          "output_type": "display_data",
          "data": {
            "image/png": "[encoded data removed]",
            "text/plain": [
              "<Figure size 504x504 with 12 Axes>"
            ]
          },
          "metadata": {
            "needs_background": "light"
          }
        }
      ]
    },
    {
      "cell_type": "code",
      "source": [
        "c = list(cols)\n",
        "for i in range(len(c)-2):\n",
        "  print(c[i])\n",
        "  plt.scatter(df[c[i]], df['quality'])\n",
        "  plt.xlabel(c[i])\n",
        "  plt.ylabel('Quality')\n",
        "  plt.show()"
      ],
      "metadata": {
        "colab": {
          "base_uri": "https://localhost:8080/",
          "height": 1000
        },
        "id": "InuV9ZeFSqHE",
        "outputId": "f2c37870-1fcb-4a8b-91cc-c8aacf1d6d78"
      },
      "execution_count": null,
      "outputs": [
        {
          "output_type": "stream",
          "name": "stdout",
          "text": [
            "fixed acidity\n"
          ]
        },
        {
          "output_type": "display_data",
          "data": {
            "image/png": "[encoded data removed]",
            "text/plain": [
              "<Figure size 432x288 with 1 Axes>"
            ]
          },
          "metadata": {
            "needs_background": "light"
          }
        },
        {
          "output_type": "stream",
          "name": "stdout",
          "text": [
            "volatile acidity\n"
          ]
        },
        {
          "output_type": "display_data",
          "data": {
            "image/png": "[encoded data removed]",
            "text/plain": [
              "<Figure size 432x288 with 1 Axes>"
            ]
          },
          "metadata": {
            "needs_background": "light"
          }
        },
        {
          "output_type": "stream",
          "name": "stdout",
          "text": [
            "citric acid\n"
          ]
        },
        {
          "output_type": "display_data",
          "data": {
            "image/png": "[encoded data removed]",
            "text/plain": [
              "<Figure size 432x288 with 1 Axes>"
            ]
          },
          "metadata": {
            "needs_background": "light"
          }
        },
        {
          "output_type": "stream",
          "name": "stdout",
          "text": [
            "residual sugar\n"
          ]
        },
        {
          "output_type": "display_data",
          "data": {
            "image/png": "[encoded data removed]",
            "text/plain": [
              "<Figure size 432x288 with 1 Axes>"
            ]
          },
          "metadata": {
            "needs_background": "light"
          }
        },
        {
          "output_type": "stream",
          "name": "stdout",
          "text": [
            "chlorides\n"
          ]
        },
        {
          "output_type": "display_data",
          "data": {
            "image/png": "[encoded data removed]",
            "text/plain": [
              "<Figure size 432x288 with 1 Axes>"
            ]
          },
          "metadata": {
            "needs_background": "light"
          }
        },
        {
          "output_type": "stream",
          "name": "stdout",
          "text": [
            "free sulfur dioxide\n"
          ]
        },
        {
          "output_type": "display_data",
          "data": {
            "image/png": "[encoded data removed]",
            "text/plain": [
              "<Figure size 432x288 with 1 Axes>"
            ]
          },
          "metadata": {
            "needs_background": "light"
          }
        },
        {
          "output_type": "stream",
          "name": "stdout",
          "text": [
            "total sulfur dioxide\n"
          ]
        },
        {
          "output_type": "display_data",
          "data": {
            "image/png": "[encoded data removed]",
            "text/plain": [
              "<Figure size 432x288 with 1 Axes>"
            ]
          },
          "metadata": {
            "needs_background": "light"
          }
        },
        {
          "output_type": "stream",
          "name": "stdout",
          "text": [
            "density\n"
          ]
        },
        {
          "output_type": "display_data",
          "data": {
            "image/png": "[encoded data removed]",
            "text/plain": [
              "<Figure size 432x288 with 1 Axes>"
            ]
          },
          "metadata": {
            "needs_background": "light"
          }
        },
        {
          "output_type": "stream",
          "name": "stdout",
          "text": [
            "pH\n"
          ]
        },
        {
          "output_type": "display_data",
          "data": {
            "image/png": "[encoded data removed]",
            "text/plain": [
              "<Figure size 432x288 with 1 Axes>"
            ]
          },
          "metadata": {
            "needs_background": "light"
          }
        },
        {
          "output_type": "stream",
          "name": "stdout",
          "text": [
            "sulphates\n"
          ]
        },
        {
          "output_type": "display_data",
          "data": {
            "image/png": "[encoded data removed]",
            "text/plain": [
              "<Figure size 432x288 with 1 Axes>"
            ]
          },
          "metadata": {
            "needs_background": "light"
          }
        },
        {
          "output_type": "stream",
          "name": "stdout",
          "text": [
            "alcohol\n"
          ]
        },
        {
          "output_type": "display_data",
          "data": {
            "image/png": "[encoded data removed]",
            "text/plain": [
              "<Figure size 432x288 with 1 Axes>"
            ]
          },
          "metadata": {
            "needs_background": "light"
          }
        }
      ]
    },
    {
      "cell_type": "code",
      "source": [
        "import seaborn as sns\n",
        "corrW = df.corr()\n",
        "corrW.style.background_gradient(cmap = 'coolwarm')"
      ],
      "metadata": {
        "colab": {
          "base_uri": "https://localhost:8080/",
          "height": 633
        },
        "id": "mLvCgLmaHEGM",
        "outputId": "d60bee2d-bf36-44bb-b57d-4419de3d80e8"
      },
      "execution_count": null,
      "outputs": [
        {
          "output_type": "execute_result",
          "data": {
            "text/html": [
              "<style type=\"text/css\">\n",
              "#T_4bef7_row0_col0, #T_4bef7_row1_col1, #T_4bef7_row2_col2, #T_4bef7_row3_col3, #T_4bef7_row4_col4, #T_4bef7_row5_col5, #T_4bef7_row6_col6, #T_4bef7_row7_col7, #T_4bef7_row8_col8, #T_4bef7_row9_col9, #T_4bef7_row10_col10, #T_4bef7_row11_col11, #T_4bef7_row12_col12 {\n",
              "  background-color: #b40426;\n",
              "  color: #f1f1f1;\n",
              "}\n",
              "#T_4bef7_row0_col1, #T_4bef7_row2_col6, #T_4bef7_row6_col12, #T_4bef7_row9_col12 {\n",
              "  background-color: #779af7;\n",
              "  color: #f1f1f1;\n",
              "}\n",
              "#T_4bef7_row0_col2, #T_4bef7_row0_col7 {\n",
              "  background-color: #f08a6c;\n",
              "  color: #f1f1f1;\n",
              "}\n",
              "#T_4bef7_row0_col3, #T_4bef7_row1_col4, #T_4bef7_row1_col12 {\n",
              "  background-color: #90b2fe;\n",
              "  color: #000000;\n",
              "}\n",
              "#T_4bef7_row0_col4 {\n",
              "  background-color: #9fbfff;\n",
              "  color: #000000;\n",
              "}\n",
              "#T_4bef7_row0_col5, #T_4bef7_row0_col8, #T_4bef7_row1_col2, #T_4bef7_row1_col9, #T_4bef7_row1_col11, #T_4bef7_row2_col1, #T_4bef7_row7_col10, #T_4bef7_row7_col12, #T_4bef7_row8_col0, #T_4bef7_row8_col2, #T_4bef7_row8_col3, #T_4bef7_row8_col4, #T_4bef7_row10_col6, #T_4bef7_row10_col7 {\n",
              "  background-color: #3b4cc0;\n",
              "  color: #f1f1f1;\n",
              "}\n",
              "#T_4bef7_row0_col6, #T_4bef7_row0_col12, #T_4bef7_row12_col3 {\n",
              "  background-color: #4e68d8;\n",
              "  color: #f1f1f1;\n",
              "}\n",
              "#T_4bef7_row0_col9 {\n",
              "  background-color: #b1cbfc;\n",
              "  color: #000000;\n",
              "}\n",
              "#T_4bef7_row0_col10 {\n",
              "  background-color: #97b8ff;\n",
              "  color: #000000;\n",
              "}\n",
              "#T_4bef7_row0_col11, #T_4bef7_row6_col2, #T_4bef7_row11_col8 {\n",
              "  background-color: #b9d0f9;\n",
              "  color: #000000;\n",
              "}\n",
              "#T_4bef7_row1_col0, #T_4bef7_row6_col4 {\n",
              "  background-color: #8fb1fe;\n",
              "  color: #000000;\n",
              "}\n",
              "#T_4bef7_row1_col3, #T_4bef7_row10_col5 {\n",
              "  background-color: #5977e3;\n",
              "  color: #f1f1f1;\n",
              "}\n",
              "#T_4bef7_row1_col5 {\n",
              "  background-color: #6687ed;\n",
              "  color: #f1f1f1;\n",
              "}\n",
              "#T_4bef7_row1_col6, #T_4bef7_row12_col5 {\n",
              "  background-color: #84a7fc;\n",
              "  color: #f1f1f1;\n",
              "}\n",
              "#T_4bef7_row1_col7, #T_4bef7_row6_col0 {\n",
              "  background-color: #adc9fd;\n",
              "  color: #000000;\n",
              "}\n",
              "#T_4bef7_row1_col8 {\n",
              "  background-color: #e6d7cf;\n",
              "  color: #000000;\n",
              "}\n",
              "#T_4bef7_row1_col10 {\n",
              "  background-color: #799cf8;\n",
              "  color: #f1f1f1;\n",
              "}\n",
              "#T_4bef7_row2_col0 {\n",
              "  background-color: #ec8165;\n",
              "  color: #f1f1f1;\n",
              "}\n",
              "#T_4bef7_row2_col3, #T_4bef7_row12_col2 {\n",
              "  background-color: #92b4fe;\n",
              "  color: #000000;\n",
              "}\n",
              "#T_4bef7_row2_col4 {\n",
              "  background-color: #c3d5f4;\n",
              "  color: #000000;\n",
              "}\n",
              "#T_4bef7_row2_col5 {\n",
              "  background-color: #5673e0;\n",
              "  color: #f1f1f1;\n",
              "}\n",
              "#T_4bef7_row2_col7 {\n",
              "  background-color: #efcfbf;\n",
              "  color: #000000;\n",
              "}\n",
              "#T_4bef7_row2_col8 {\n",
              "  background-color: #5470de;\n",
              "  color: #f1f1f1;\n",
              "}\n",
              "#T_4bef7_row2_col9 {\n",
              "  background-color: #d6dce4;\n",
              "  color: #000000;\n",
              "}\n",
              "#T_4bef7_row2_col10 {\n",
              "  background-color: #c0d4f5;\n",
              "  color: #000000;\n",
              "}\n",
              "#T_4bef7_row2_col11 {\n",
              "  background-color: #d2dbe8;\n",
              "  color: #000000;\n",
              "}\n",
              "#T_4bef7_row2_col12, #T_4bef7_row7_col11 {\n",
              "  background-color: #6f92f3;\n",
              "  color: #f1f1f1;\n",
              "}\n",
              "#T_4bef7_row3_col0, #T_4bef7_row4_col9, #T_4bef7_row9_col0, #T_4bef7_row9_col4, #T_4bef7_row11_col2 {\n",
              "  background-color: #dfdbd9;\n",
              "  color: #000000;\n",
              "}\n",
              "#T_4bef7_row3_col1, #T_4bef7_row5_col1 {\n",
              "  background-color: #afcafc;\n",
              "  color: #000000;\n",
              "}\n",
              "#T_4bef7_row3_col2 {\n",
              "  background-color: #d4dbe6;\n",
              "  color: #000000;\n",
              "}\n",
              "#T_4bef7_row3_col4 {\n",
              "  background-color: #94b6ff;\n",
              "  color: #000000;\n",
              "}\n",
              "#T_4bef7_row3_col5 {\n",
              "  background-color: #98b9ff;\n",
              "  color: #000000;\n",
              "}\n",
              "#T_4bef7_row3_col6, #T_4bef7_row11_col12 {\n",
              "  background-color: #a5c3fe;\n",
              "  color: #000000;\n",
              "}\n",
              "#T_4bef7_row3_col7 {\n",
              "  background-color: #efcebd;\n",
              "  color: #000000;\n",
              "}\n",
              "#T_4bef7_row3_col8, #T_4bef7_row5_col12, #T_4bef7_row12_col11 {\n",
              "  background-color: #abc8fd;\n",
              "  color: #000000;\n",
              "}\n",
              "#T_4bef7_row3_col9, #T_4bef7_row5_col4 {\n",
              "  background-color: #85a8fc;\n",
              "  color: #f1f1f1;\n",
              "}\n",
              "#T_4bef7_row3_col10 {\n",
              "  background-color: #b6cefa;\n",
              "  color: #000000;\n",
              "}\n",
              "#T_4bef7_row3_col11 {\n",
              "  background-color: #a1c0ff;\n",
              "  color: #000000;\n",
              "}\n",
              "#T_4bef7_row3_col12 {\n",
              "  background-color: #86a9fc;\n",
              "  color: #f1f1f1;\n",
              "}\n",
              "#T_4bef7_row4_col0, #T_4bef7_row4_col7, #T_4bef7_row9_col11 {\n",
              "  background-color: #d5dbe5;\n",
              "  color: #000000;\n",
              "}\n",
              "#T_4bef7_row4_col1 {\n",
              "  background-color: #bcd2f7;\n",
              "  color: #000000;\n",
              "}\n",
              "#T_4bef7_row4_col2 {\n",
              "  background-color: #e0dbd8;\n",
              "  color: #000000;\n",
              "}\n",
              "#T_4bef7_row4_col3, #T_4bef7_row9_col5 {\n",
              "  background-color: #7093f3;\n",
              "  color: #f1f1f1;\n",
              "}\n",
              "#T_4bef7_row4_col5 {\n",
              "  background-color: #6b8df0;\n",
              "  color: #f1f1f1;\n",
              "}\n",
              "#T_4bef7_row4_col6, #T_4bef7_row7_col8 {\n",
              "  background-color: #7a9df8;\n",
              "  color: #f1f1f1;\n",
              "}\n",
              "#T_4bef7_row4_col8 {\n",
              "  background-color: #89acfd;\n",
              "  color: #000000;\n",
              "}\n",
              "#T_4bef7_row4_col10 {\n",
              "  background-color: #7396f5;\n",
              "  color: #f1f1f1;\n",
              "}\n",
              "#T_4bef7_row4_col11, #T_4bef7_row4_col12, #T_4bef7_row7_col6 {\n",
              "  background-color: #7b9ff9;\n",
              "  color: #f1f1f1;\n",
              "}\n",
              "#T_4bef7_row5_col0 {\n",
              "  background-color: #a2c1ff;\n",
              "  color: #000000;\n",
              "}\n",
              "#T_4bef7_row5_col2 {\n",
              "  background-color: #a3c2fe;\n",
              "  color: #000000;\n",
              "}\n",
              "#T_4bef7_row5_col3, #T_4bef7_row8_col11 {\n",
              "  background-color: #8db0fe;\n",
              "  color: #000000;\n",
              "}\n",
              "#T_4bef7_row5_col6 {\n",
              "  background-color: #f7a889;\n",
              "  color: #000000;\n",
              "}\n",
              "#T_4bef7_row5_col7, #T_4bef7_row9_col8 {\n",
              "  background-color: #9dbdff;\n",
              "  color: #000000;\n",
              "}\n",
              "#T_4bef7_row5_col8 {\n",
              "  background-color: #cfdaea;\n",
              "  color: #000000;\n",
              "}\n",
              "#T_4bef7_row5_col9, #T_4bef7_row5_col11, #T_4bef7_row12_col0 {\n",
              "  background-color: #8badfd;\n",
              "  color: #000000;\n",
              "}\n",
              "#T_4bef7_row5_col10 {\n",
              "  background-color: #9ebeff;\n",
              "  color: #000000;\n",
              "}\n",
              "#T_4bef7_row6_col1 {\n",
              "  background-color: #c1d4f4;\n",
              "  color: #000000;\n",
              "}\n",
              "#T_4bef7_row6_col3 {\n",
              "  background-color: #96b7ff;\n",
              "  color: #000000;\n",
              "}\n",
              "#T_4bef7_row6_col5 {\n",
              "  background-color: #f7a98b;\n",
              "  color: #000000;\n",
              "}\n",
              "#T_4bef7_row6_col7, #T_4bef7_row8_col12 {\n",
              "  background-color: #b5cdfa;\n",
              "  color: #000000;\n",
              "}\n",
              "#T_4bef7_row6_col8 {\n",
              "  background-color: #b7cff9;\n",
              "  color: #000000;\n",
              "}\n",
              "#T_4bef7_row6_col9 {\n",
              "  background-color: #88abfd;\n",
              "  color: #000000;\n",
              "}\n",
              "#T_4bef7_row6_col10, #T_4bef7_row8_col5 {\n",
              "  background-color: #7da0f9;\n",
              "  color: #f1f1f1;\n",
              "}\n",
              "#T_4bef7_row6_col11, #T_4bef7_row10_col3 {\n",
              "  background-color: #6c8ff1;\n",
              "  color: #f1f1f1;\n",
              "}\n",
              "#T_4bef7_row7_col0 {\n",
              "  background-color: #ec7f63;\n",
              "  color: #f1f1f1;\n",
              "}\n",
              "#T_4bef7_row7_col1, #T_4bef7_row10_col0 {\n",
              "  background-color: #b3cdfb;\n",
              "  color: #000000;\n",
              "}\n",
              "#T_4bef7_row7_col2 {\n",
              "  background-color: #f1ccb8;\n",
              "  color: #000000;\n",
              "}\n",
              "#T_4bef7_row7_col3 {\n",
              "  background-color: #cdd9ec;\n",
              "  color: #000000;\n",
              "}\n",
              "#T_4bef7_row7_col4 {\n",
              "  background-color: #bad0f8;\n",
              "  color: #000000;\n",
              "}\n",
              "#T_4bef7_row7_col5, #T_4bef7_row8_col7 {\n",
              "  background-color: #5875e1;\n",
              "  color: #f1f1f1;\n",
              "}\n",
              "#T_4bef7_row7_col9 {\n",
              "  background-color: #a9c6fd;\n",
              "  color: #000000;\n",
              "}\n",
              "#T_4bef7_row8_col1 {\n",
              "  background-color: #dbdcde;\n",
              "  color: #000000;\n",
              "}\n",
              "#T_4bef7_row8_col6 {\n",
              "  background-color: #5b7ae5;\n",
              "  color: #f1f1f1;\n",
              "}\n",
              "#T_4bef7_row8_col9 {\n",
              "  background-color: #506bda;\n",
              "  color: #f1f1f1;\n",
              "}\n",
              "#T_4bef7_row8_col10 {\n",
              "  background-color: #d8dce2;\n",
              "  color: #000000;\n",
              "}\n",
              "#T_4bef7_row9_col1 {\n",
              "  background-color: #7295f4;\n",
              "  color: #f1f1f1;\n",
              "}\n",
              "#T_4bef7_row9_col2 {\n",
              "  background-color: #edd2c3;\n",
              "  color: #000000;\n",
              "}\n",
              "#T_4bef7_row9_col3, #T_4bef7_row11_col4 {\n",
              "  background-color: #5f7fe8;\n",
              "  color: #f1f1f1;\n",
              "}\n",
              "#T_4bef7_row9_col6 {\n",
              "  background-color: #7597f6;\n",
              "  color: #f1f1f1;\n",
              "}\n",
              "#T_4bef7_row9_col7 {\n",
              "  background-color: #c9d7f0;\n",
              "  color: #000000;\n",
              "}\n",
              "#T_4bef7_row9_col10 {\n",
              "  background-color: #bed2f6;\n",
              "  color: #000000;\n",
              "}\n",
              "#T_4bef7_row10_col1 {\n",
              "  background-color: #82a6fb;\n",
              "  color: #f1f1f1;\n",
              "}\n",
              "#T_4bef7_row10_col2 {\n",
              "  background-color: #c7d7f0;\n",
              "  color: #000000;\n",
              "}\n",
              "#T_4bef7_row10_col4 {\n",
              "  background-color: #455cce;\n",
              "  color: #f1f1f1;\n",
              "}\n",
              "#T_4bef7_row10_col8 {\n",
              "  background-color: #e7d7ce;\n",
              "  color: #000000;\n",
              "}\n",
              "#T_4bef7_row10_col9 {\n",
              "  background-color: #9bbcff;\n",
              "  color: #000000;\n",
              "}\n",
              "#T_4bef7_row10_col11 {\n",
              "  background-color: #f5c1a9;\n",
              "  color: #000000;\n",
              "}\n",
              "#T_4bef7_row10_col12 {\n",
              "  background-color: #ccd9ed;\n",
              "  color: #000000;\n",
              "}\n",
              "#T_4bef7_row11_col0 {\n",
              "  background-color: #d7dce3;\n",
              "  color: #000000;\n",
              "}\n",
              "#T_4bef7_row11_col1, #T_4bef7_row11_col5, #T_4bef7_row12_col7 {\n",
              "  background-color: #5572df;\n",
              "  color: #f1f1f1;\n",
              "}\n",
              "#T_4bef7_row11_col3 {\n",
              "  background-color: #6180e9;\n",
              "  color: #f1f1f1;\n",
              "}\n",
              "#T_4bef7_row11_col6 {\n",
              "  background-color: #3c4ec2;\n",
              "  color: #f1f1f1;\n",
              "}\n",
              "#T_4bef7_row11_col7 {\n",
              "  background-color: #80a3fa;\n",
              "  color: #f1f1f1;\n",
              "}\n",
              "#T_4bef7_row11_col9 {\n",
              "  background-color: #c6d6f1;\n",
              "  color: #000000;\n",
              "}\n",
              "#T_4bef7_row11_col10 {\n",
              "  background-color: #f7bca1;\n",
              "  color: #000000;\n",
              "}\n",
              "#T_4bef7_row12_col1 {\n",
              "  background-color: #aec9fc;\n",
              "  color: #000000;\n",
              "}\n",
              "#T_4bef7_row12_col4 {\n",
              "  background-color: #688aef;\n",
              "  color: #f1f1f1;\n",
              "}\n",
              "#T_4bef7_row12_col6 {\n",
              "  background-color: #4f69d9;\n",
              "  color: #f1f1f1;\n",
              "}\n",
              "#T_4bef7_row12_col8 {\n",
              "  background-color: #d9dce1;\n",
              "  color: #000000;\n",
              "}\n",
              "#T_4bef7_row12_col9 {\n",
              "  background-color: #6485ec;\n",
              "  color: #f1f1f1;\n",
              "}\n",
              "#T_4bef7_row12_col10 {\n",
              "  background-color: #dadce0;\n",
              "  color: #000000;\n",
              "}\n",
              "</style>\n",
              "<table id=\"T_4bef7_\" class=\"dataframe\">\n",
              "  <thead>\n",
              "    <tr>\n",
              "      <th class=\"blank level0\" >&nbsp;</th>\n",
              "      <th class=\"col_heading level0 col0\" >fixed acidity</th>\n",
              "      <th class=\"col_heading level0 col1\" >volatile acidity</th>\n",
              "      <th class=\"col_heading level0 col2\" >citric acid</th>\n",
              "      <th class=\"col_heading level0 col3\" >residual sugar</th>\n",
              "      <th class=\"col_heading level0 col4\" >chlorides</th>\n",
              "      <th class=\"col_heading level0 col5\" >free sulfur dioxide</th>\n",
              "      <th class=\"col_heading level0 col6\" >total sulfur dioxide</th>\n",
              "      <th class=\"col_heading level0 col7\" >density</th>\n",
              "      <th class=\"col_heading level0 col8\" >pH</th>\n",
              "      <th class=\"col_heading level0 col9\" >sulphates</th>\n",
              "      <th class=\"col_heading level0 col10\" >alcohol</th>\n",
              "      <th class=\"col_heading level0 col11\" >quality</th>\n",
              "      <th class=\"col_heading level0 col12\" >Id</th>\n",
              "    </tr>\n",
              "  </thead>\n",
              "  <tbody>\n",
              "    <tr>\n",
              "      <th id=\"T_4bef7_level0_row0\" class=\"row_heading level0 row0\" >fixed acidity</th>\n",
              "      <td id=\"T_4bef7_row0_col0\" class=\"data row0 col0\" >1.000000</td>\n",
              "      <td id=\"T_4bef7_row0_col1\" class=\"data row0 col1\" >-0.250728</td>\n",
              "      <td id=\"T_4bef7_row0_col2\" class=\"data row0 col2\" >0.673157</td>\n",
              "      <td id=\"T_4bef7_row0_col3\" class=\"data row0 col3\" >0.171831</td>\n",
              "      <td id=\"T_4bef7_row0_col4\" class=\"data row0 col4\" >0.107889</td>\n",
              "      <td id=\"T_4bef7_row0_col5\" class=\"data row0 col5\" >-0.164831</td>\n",
              "      <td id=\"T_4bef7_row0_col6\" class=\"data row0 col6\" >-0.110628</td>\n",
              "      <td id=\"T_4bef7_row0_col7\" class=\"data row0 col7\" >0.681501</td>\n",
              "      <td id=\"T_4bef7_row0_col8\" class=\"data row0 col8\" >-0.685163</td>\n",
              "      <td id=\"T_4bef7_row0_col9\" class=\"data row0 col9\" >0.174592</td>\n",
              "      <td id=\"T_4bef7_row0_col10\" class=\"data row0 col10\" >-0.075055</td>\n",
              "      <td id=\"T_4bef7_row0_col11\" class=\"data row0 col11\" >0.121970</td>\n",
              "      <td id=\"T_4bef7_row0_col12\" class=\"data row0 col12\" >-0.275826</td>\n",
              "    </tr>\n",
              "    <tr>\n",
              "      <th id=\"T_4bef7_level0_row1\" class=\"row_heading level0 row1\" >volatile acidity</th>\n",
              "      <td id=\"T_4bef7_row1_col0\" class=\"data row1 col0\" >-0.250728</td>\n",
              "      <td id=\"T_4bef7_row1_col1\" class=\"data row1 col1\" >1.000000</td>\n",
              "      <td id=\"T_4bef7_row1_col2\" class=\"data row1 col2\" >-0.544187</td>\n",
              "      <td id=\"T_4bef7_row1_col3\" class=\"data row1 col3\" >-0.005751</td>\n",
              "      <td id=\"T_4bef7_row1_col4\" class=\"data row1 col4\" >0.056336</td>\n",
              "      <td id=\"T_4bef7_row1_col5\" class=\"data row1 col5\" >-0.001962</td>\n",
              "      <td id=\"T_4bef7_row1_col6\" class=\"data row1 col6\" >0.077748</td>\n",
              "      <td id=\"T_4bef7_row1_col7\" class=\"data row1 col7\" >0.016512</td>\n",
              "      <td id=\"T_4bef7_row1_col8\" class=\"data row1 col8\" >0.221492</td>\n",
              "      <td id=\"T_4bef7_row1_col9\" class=\"data row1 col9\" >-0.276079</td>\n",
              "      <td id=\"T_4bef7_row1_col10\" class=\"data row1 col10\" >-0.203909</td>\n",
              "      <td id=\"T_4bef7_row1_col11\" class=\"data row1 col11\" >-0.407394</td>\n",
              "      <td id=\"T_4bef7_row1_col12\" class=\"data row1 col12\" >-0.007892</td>\n",
              "    </tr>\n",
              "    <tr>\n",
              "      <th id=\"T_4bef7_level0_row2\" class=\"row_heading level0 row2\" >citric acid</th>\n",
              "      <td id=\"T_4bef7_row2_col0\" class=\"data row2 col0\" >0.673157</td>\n",
              "      <td id=\"T_4bef7_row2_col1\" class=\"data row2 col1\" >-0.544187</td>\n",
              "      <td id=\"T_4bef7_row2_col2\" class=\"data row2 col2\" >1.000000</td>\n",
              "      <td id=\"T_4bef7_row2_col3\" class=\"data row2 col3\" >0.175815</td>\n",
              "      <td id=\"T_4bef7_row2_col4\" class=\"data row2 col4\" >0.245312</td>\n",
              "      <td id=\"T_4bef7_row2_col5\" class=\"data row2 col5\" >-0.057589</td>\n",
              "      <td id=\"T_4bef7_row2_col6\" class=\"data row2 col6\" >0.036871</td>\n",
              "      <td id=\"T_4bef7_row2_col7\" class=\"data row2 col7\" >0.375243</td>\n",
              "      <td id=\"T_4bef7_row2_col8\" class=\"data row2 col8\" >-0.546339</td>\n",
              "      <td id=\"T_4bef7_row2_col9\" class=\"data row2 col9\" >0.331232</td>\n",
              "      <td id=\"T_4bef7_row2_col10\" class=\"data row2 col10\" >0.106250</td>\n",
              "      <td id=\"T_4bef7_row2_col11\" class=\"data row2 col11\" >0.240821</td>\n",
              "      <td id=\"T_4bef7_row2_col12\" class=\"data row2 col12\" >-0.139011</td>\n",
              "    </tr>\n",
              "    <tr>\n",
              "      <th id=\"T_4bef7_level0_row3\" class=\"row_heading level0 row3\" >residual sugar</th>\n",
              "      <td id=\"T_4bef7_row3_col0\" class=\"data row3 col0\" >0.171831</td>\n",
              "      <td id=\"T_4bef7_row3_col1\" class=\"data row3 col1\" >-0.005751</td>\n",
              "      <td id=\"T_4bef7_row3_col2\" class=\"data row3 col2\" >0.175815</td>\n",
              "      <td id=\"T_4bef7_row3_col3\" class=\"data row3 col3\" >1.000000</td>\n",
              "      <td id=\"T_4bef7_row3_col4\" class=\"data row3 col4\" >0.070863</td>\n",
              "      <td id=\"T_4bef7_row3_col5\" class=\"data row3 col5\" >0.165339</td>\n",
              "      <td id=\"T_4bef7_row3_col6\" class=\"data row3 col6\" >0.190790</td>\n",
              "      <td id=\"T_4bef7_row3_col7\" class=\"data row3 col7\" >0.380147</td>\n",
              "      <td id=\"T_4bef7_row3_col8\" class=\"data row3 col8\" >-0.116959</td>\n",
              "      <td id=\"T_4bef7_row3_col9\" class=\"data row3 col9\" >0.017475</td>\n",
              "      <td id=\"T_4bef7_row3_col10\" class=\"data row3 col10\" >0.058421</td>\n",
              "      <td id=\"T_4bef7_row3_col11\" class=\"data row3 col11\" >0.022002</td>\n",
              "      <td id=\"T_4bef7_row3_col12\" class=\"data row3 col12\" >-0.046344</td>\n",
              "    </tr>\n",
              "    <tr>\n",
              "      <th id=\"T_4bef7_level0_row4\" class=\"row_heading level0 row4\" >chlorides</th>\n",
              "      <td id=\"T_4bef7_row4_col0\" class=\"data row4 col0\" >0.107889</td>\n",
              "      <td id=\"T_4bef7_row4_col1\" class=\"data row4 col1\" >0.056336</td>\n",
              "      <td id=\"T_4bef7_row4_col2\" class=\"data row4 col2\" >0.245312</td>\n",
              "      <td id=\"T_4bef7_row4_col3\" class=\"data row4 col3\" >0.070863</td>\n",
              "      <td id=\"T_4bef7_row4_col4\" class=\"data row4 col4\" >1.000000</td>\n",
              "      <td id=\"T_4bef7_row4_col5\" class=\"data row4 col5\" >0.015280</td>\n",
              "      <td id=\"T_4bef7_row4_col6\" class=\"data row4 col6\" >0.048163</td>\n",
              "      <td id=\"T_4bef7_row4_col7\" class=\"data row4 col7\" >0.208901</td>\n",
              "      <td id=\"T_4bef7_row4_col8\" class=\"data row4 col8\" >-0.277759</td>\n",
              "      <td id=\"T_4bef7_row4_col9\" class=\"data row4 col9\" >0.374784</td>\n",
              "      <td id=\"T_4bef7_row4_col10\" class=\"data row4 col10\" >-0.229917</td>\n",
              "      <td id=\"T_4bef7_row4_col11\" class=\"data row4 col11\" >-0.124085</td>\n",
              "      <td id=\"T_4bef7_row4_col12\" class=\"data row4 col12\" >-0.088099</td>\n",
              "    </tr>\n",
              "    <tr>\n",
              "      <th id=\"T_4bef7_level0_row5\" class=\"row_heading level0 row5\" >free sulfur dioxide</th>\n",
              "      <td id=\"T_4bef7_row5_col0\" class=\"data row5 col0\" >-0.164831</td>\n",
              "      <td id=\"T_4bef7_row5_col1\" class=\"data row5 col1\" >-0.001962</td>\n",
              "      <td id=\"T_4bef7_row5_col2\" class=\"data row5 col2\" >-0.057589</td>\n",
              "      <td id=\"T_4bef7_row5_col3\" class=\"data row5 col3\" >0.165339</td>\n",
              "      <td id=\"T_4bef7_row5_col4\" class=\"data row5 col4\" >0.015280</td>\n",
              "      <td id=\"T_4bef7_row5_col5\" class=\"data row5 col5\" >1.000000</td>\n",
              "      <td id=\"T_4bef7_row5_col6\" class=\"data row5 col6\" >0.661093</td>\n",
              "      <td id=\"T_4bef7_row5_col7\" class=\"data row5 col7\" >-0.054150</td>\n",
              "      <td id=\"T_4bef7_row5_col8\" class=\"data row5 col8\" >0.072804</td>\n",
              "      <td id=\"T_4bef7_row5_col9\" class=\"data row5 col9\" >0.034445</td>\n",
              "      <td id=\"T_4bef7_row5_col10\" class=\"data row5 col10\" >-0.047095</td>\n",
              "      <td id=\"T_4bef7_row5_col11\" class=\"data row5 col11\" >-0.063260</td>\n",
              "      <td id=\"T_4bef7_row5_col12\" class=\"data row5 col12\" >0.095268</td>\n",
              "    </tr>\n",
              "    <tr>\n",
              "      <th id=\"T_4bef7_level0_row6\" class=\"row_heading level0 row6\" >total sulfur dioxide</th>\n",
              "      <td id=\"T_4bef7_row6_col0\" class=\"data row6 col0\" >-0.110628</td>\n",
              "      <td id=\"T_4bef7_row6_col1\" class=\"data row6 col1\" >0.077748</td>\n",
              "      <td id=\"T_4bef7_row6_col2\" class=\"data row6 col2\" >0.036871</td>\n",
              "      <td id=\"T_4bef7_row6_col3\" class=\"data row6 col3\" >0.190790</td>\n",
              "      <td id=\"T_4bef7_row6_col4\" class=\"data row6 col4\" >0.048163</td>\n",
              "      <td id=\"T_4bef7_row6_col5\" class=\"data row6 col5\" >0.661093</td>\n",
              "      <td id=\"T_4bef7_row6_col6\" class=\"data row6 col6\" >1.000000</td>\n",
              "      <td id=\"T_4bef7_row6_col7\" class=\"data row6 col7\" >0.050175</td>\n",
              "      <td id=\"T_4bef7_row6_col8\" class=\"data row6 col8\" >-0.059126</td>\n",
              "      <td id=\"T_4bef7_row6_col9\" class=\"data row6 col9\" >0.026894</td>\n",
              "      <td id=\"T_4bef7_row6_col10\" class=\"data row6 col10\" >-0.188165</td>\n",
              "      <td id=\"T_4bef7_row6_col11\" class=\"data row6 col11\" >-0.183339</td>\n",
              "      <td id=\"T_4bef7_row6_col12\" class=\"data row6 col12\" >-0.107389</td>\n",
              "    </tr>\n",
              "    <tr>\n",
              "      <th id=\"T_4bef7_level0_row7\" class=\"row_heading level0 row7\" >density</th>\n",
              "      <td id=\"T_4bef7_row7_col0\" class=\"data row7 col0\" >0.681501</td>\n",
              "      <td id=\"T_4bef7_row7_col1\" class=\"data row7 col1\" >0.016512</td>\n",
              "      <td id=\"T_4bef7_row7_col2\" class=\"data row7 col2\" >0.375243</td>\n",
              "      <td id=\"T_4bef7_row7_col3\" class=\"data row7 col3\" >0.380147</td>\n",
              "      <td id=\"T_4bef7_row7_col4\" class=\"data row7 col4\" >0.208901</td>\n",
              "      <td id=\"T_4bef7_row7_col5\" class=\"data row7 col5\" >-0.054150</td>\n",
              "      <td id=\"T_4bef7_row7_col6\" class=\"data row7 col6\" >0.050175</td>\n",
              "      <td id=\"T_4bef7_row7_col7\" class=\"data row7 col7\" >1.000000</td>\n",
              "      <td id=\"T_4bef7_row7_col8\" class=\"data row7 col8\" >-0.352775</td>\n",
              "      <td id=\"T_4bef7_row7_col9\" class=\"data row7 col9\" >0.143139</td>\n",
              "      <td id=\"T_4bef7_row7_col10\" class=\"data row7 col10\" >-0.494727</td>\n",
              "      <td id=\"T_4bef7_row7_col11\" class=\"data row7 col11\" >-0.175208</td>\n",
              "      <td id=\"T_4bef7_row7_col12\" class=\"data row7 col12\" >-0.363926</td>\n",
              "    </tr>\n",
              "    <tr>\n",
              "      <th id=\"T_4bef7_level0_row8\" class=\"row_heading level0 row8\" >pH</th>\n",
              "      <td id=\"T_4bef7_row8_col0\" class=\"data row8 col0\" >-0.685163</td>\n",
              "      <td id=\"T_4bef7_row8_col1\" class=\"data row8 col1\" >0.221492</td>\n",
              "      <td id=\"T_4bef7_row8_col2\" class=\"data row8 col2\" >-0.546339</td>\n",
              "      <td id=\"T_4bef7_row8_col3\" class=\"data row8 col3\" >-0.116959</td>\n",
              "      <td id=\"T_4bef7_row8_col4\" class=\"data row8 col4\" >-0.277759</td>\n",
              "      <td id=\"T_4bef7_row8_col5\" class=\"data row8 col5\" >0.072804</td>\n",
              "      <td id=\"T_4bef7_row8_col6\" class=\"data row8 col6\" >-0.059126</td>\n",
              "      <td id=\"T_4bef7_row8_col7\" class=\"data row8 col7\" >-0.352775</td>\n",
              "      <td id=\"T_4bef7_row8_col8\" class=\"data row8 col8\" >1.000000</td>\n",
              "      <td id=\"T_4bef7_row8_col9\" class=\"data row8 col9\" >-0.185499</td>\n",
              "      <td id=\"T_4bef7_row8_col10\" class=\"data row8 col10\" >0.225322</td>\n",
              "      <td id=\"T_4bef7_row8_col11\" class=\"data row8 col11\" >-0.052453</td>\n",
              "      <td id=\"T_4bef7_row8_col12\" class=\"data row8 col12\" >0.132904</td>\n",
              "    </tr>\n",
              "    <tr>\n",
              "      <th id=\"T_4bef7_level0_row9\" class=\"row_heading level0 row9\" >sulphates</th>\n",
              "      <td id=\"T_4bef7_row9_col0\" class=\"data row9 col0\" >0.174592</td>\n",
              "      <td id=\"T_4bef7_row9_col1\" class=\"data row9 col1\" >-0.276079</td>\n",
              "      <td id=\"T_4bef7_row9_col2\" class=\"data row9 col2\" >0.331232</td>\n",
              "      <td id=\"T_4bef7_row9_col3\" class=\"data row9 col3\" >0.017475</td>\n",
              "      <td id=\"T_4bef7_row9_col4\" class=\"data row9 col4\" >0.374784</td>\n",
              "      <td id=\"T_4bef7_row9_col5\" class=\"data row9 col5\" >0.034445</td>\n",
              "      <td id=\"T_4bef7_row9_col6\" class=\"data row9 col6\" >0.026894</td>\n",
              "      <td id=\"T_4bef7_row9_col7\" class=\"data row9 col7\" >0.143139</td>\n",
              "      <td id=\"T_4bef7_row9_col8\" class=\"data row9 col8\" >-0.185499</td>\n",
              "      <td id=\"T_4bef7_row9_col9\" class=\"data row9 col9\" >1.000000</td>\n",
              "      <td id=\"T_4bef7_row9_col10\" class=\"data row9 col10\" >0.094421</td>\n",
              "      <td id=\"T_4bef7_row9_col11\" class=\"data row9 col11\" >0.257710</td>\n",
              "      <td id=\"T_4bef7_row9_col12\" class=\"data row9 col12\" >-0.103954</td>\n",
              "    </tr>\n",
              "    <tr>\n",
              "      <th id=\"T_4bef7_level0_row10\" class=\"row_heading level0 row10\" >alcohol</th>\n",
              "      <td id=\"T_4bef7_row10_col0\" class=\"data row10 col0\" >-0.075055</td>\n",
              "      <td id=\"T_4bef7_row10_col1\" class=\"data row10 col1\" >-0.203909</td>\n",
              "      <td id=\"T_4bef7_row10_col2\" class=\"data row10 col2\" >0.106250</td>\n",
              "      <td id=\"T_4bef7_row10_col3\" class=\"data row10 col3\" >0.058421</td>\n",
              "      <td id=\"T_4bef7_row10_col4\" class=\"data row10 col4\" >-0.229917</td>\n",
              "      <td id=\"T_4bef7_row10_col5\" class=\"data row10 col5\" >-0.047095</td>\n",
              "      <td id=\"T_4bef7_row10_col6\" class=\"data row10 col6\" >-0.188165</td>\n",
              "      <td id=\"T_4bef7_row10_col7\" class=\"data row10 col7\" >-0.494727</td>\n",
              "      <td id=\"T_4bef7_row10_col8\" class=\"data row10 col8\" >0.225322</td>\n",
              "      <td id=\"T_4bef7_row10_col9\" class=\"data row10 col9\" >0.094421</td>\n",
              "      <td id=\"T_4bef7_row10_col10\" class=\"data row10 col10\" >1.000000</td>\n",
              "      <td id=\"T_4bef7_row10_col11\" class=\"data row10 col11\" >0.484866</td>\n",
              "      <td id=\"T_4bef7_row10_col12\" class=\"data row10 col12\" >0.238087</td>\n",
              "    </tr>\n",
              "    <tr>\n",
              "      <th id=\"T_4bef7_level0_row11\" class=\"row_heading level0 row11\" >quality</th>\n",
              "      <td id=\"T_4bef7_row11_col0\" class=\"data row11 col0\" >0.121970</td>\n",
              "      <td id=\"T_4bef7_row11_col1\" class=\"data row11 col1\" >-0.407394</td>\n",
              "      <td id=\"T_4bef7_row11_col2\" class=\"data row11 col2\" >0.240821</td>\n",
              "      <td id=\"T_4bef7_row11_col3\" class=\"data row11 col3\" >0.022002</td>\n",
              "      <td id=\"T_4bef7_row11_col4\" class=\"data row11 col4\" >-0.124085</td>\n",
              "      <td id=\"T_4bef7_row11_col5\" class=\"data row11 col5\" >-0.063260</td>\n",
              "      <td id=\"T_4bef7_row11_col6\" class=\"data row11 col6\" >-0.183339</td>\n",
              "      <td id=\"T_4bef7_row11_col7\" class=\"data row11 col7\" >-0.175208</td>\n",
              "      <td id=\"T_4bef7_row11_col8\" class=\"data row11 col8\" >-0.052453</td>\n",
              "      <td id=\"T_4bef7_row11_col9\" class=\"data row11 col9\" >0.257710</td>\n",
              "      <td id=\"T_4bef7_row11_col10\" class=\"data row11 col10\" >0.484866</td>\n",
              "      <td id=\"T_4bef7_row11_col11\" class=\"data row11 col11\" >1.000000</td>\n",
              "      <td id=\"T_4bef7_row11_col12\" class=\"data row11 col12\" >0.069708</td>\n",
              "    </tr>\n",
              "    <tr>\n",
              "      <th id=\"T_4bef7_level0_row12\" class=\"row_heading level0 row12\" >Id</th>\n",
              "      <td id=\"T_4bef7_row12_col0\" class=\"data row12 col0\" >-0.275826</td>\n",
              "      <td id=\"T_4bef7_row12_col1\" class=\"data row12 col1\" >-0.007892</td>\n",
              "      <td id=\"T_4bef7_row12_col2\" class=\"data row12 col2\" >-0.139011</td>\n",
              "      <td id=\"T_4bef7_row12_col3\" class=\"data row12 col3\" >-0.046344</td>\n",
              "      <td id=\"T_4bef7_row12_col4\" class=\"data row12 col4\" >-0.088099</td>\n",
              "      <td id=\"T_4bef7_row12_col5\" class=\"data row12 col5\" >0.095268</td>\n",
              "      <td id=\"T_4bef7_row12_col6\" class=\"data row12 col6\" >-0.107389</td>\n",
              "      <td id=\"T_4bef7_row12_col7\" class=\"data row12 col7\" >-0.363926</td>\n",
              "      <td id=\"T_4bef7_row12_col8\" class=\"data row12 col8\" >0.132904</td>\n",
              "      <td id=\"T_4bef7_row12_col9\" class=\"data row12 col9\" >-0.103954</td>\n",
              "      <td id=\"T_4bef7_row12_col10\" class=\"data row12 col10\" >0.238087</td>\n",
              "      <td id=\"T_4bef7_row12_col11\" class=\"data row12 col11\" >0.069708</td>\n",
              "      <td id=\"T_4bef7_row12_col12\" class=\"data row12 col12\" >1.000000</td>\n",
              "    </tr>\n",
              "  </tbody>\n",
              "</table>\n"
            ],
            "text/plain": [
              "<pandas.io.formats.style.Styler at 0x7fd9ad485cd0>"
            ]
          },
          "metadata": {},
          "execution_count": 8
        }
      ]
    },
    {
      "cell_type": "markdown",
      "source": [
        "Here it seems that there is no direct correlation between any one factor alone. It looks like a multi variable effect. Here we can probably use a linear classifier and or a decision tree approach to predict future alcohols or in this case a test set. We used our correlation matrix to double check and looking on the right side it appears the highest correlation coefficient is 0.48 for alcohol quantity not statistically significant though. "
      ],
      "metadata": {
        "id": "YxOMcLTGULWD"
      }
    },
    {
      "cell_type": "markdown",
      "source": [
        "## K-Neighbors"
      ],
      "metadata": {
        "id": "gV_ZQTefgyCO"
      }
    },
    {
      "cell_type": "code",
      "source": [
        "from sklearn.model_selection import train_test_split\n",
        "y = df[\"quality\"]\n",
        "X = df.loc[:, df.columns!='quality']\n",
        "X_train, X_test, y_train, y_test = train_test_split(X, y, test_size=0.15, random_state=123)\n"
      ],
      "metadata": {
        "id": "vNwVWzIh16a3"
      },
      "execution_count": null,
      "outputs": []
    },
    {
      "cell_type": "markdown",
      "source": [
        ""
      ],
      "metadata": {
        "id": "U0QzX_tSSPzK"
      }
    },
    {
      "cell_type": "code",
      "source": [
        "from sklearn import preprocessing\n",
        "min_max_scaler = preprocessing.MinMaxScaler()\n",
        "X_train =  min_max_scaler.fit_transform(X_train)\n",
        "X_test = min_max_scaler.transform(X_test)\n",
        "y_train = y_train.astype('float32').to_numpy().astype(np.float32)\n",
        "y_test = y_test.astype('float32').to_numpy().astype(np.float32)"
      ],
      "metadata": {
        "id": "NldS53B5-kNQ"
      },
      "execution_count": null,
      "outputs": []
    },
    {
      "cell_type": "code",
      "source": [
        "from sklearn.neighbors import KNeighborsClassifier\n",
        "scores = {}\n",
        "maxi = 0\n",
        "max_score = 0\n",
        "for i in range(20):\n",
        "  modelik= KNeighborsClassifier(n_neighbors = i + 1, weights = 'distance', metric = 'manhattan').fit(X_train,y_train)\n",
        "  modelik.score(X_test,y_test)\n",
        "  scores[i+1] = modelik.score(X_test, y_test)\n",
        "  if  modelik.score(X_test, y_test) > max_score:\n",
        "    max_score = modelik.score(X_test, y_test)\n",
        "    maxi = i+1\n",
        "print(\"Highest score achieved on:\", str(max_score)[:5], \"using\", maxi, \"as our k\")"
      ],
      "metadata": {
        "colab": {
          "base_uri": "https://localhost:8080/"
        },
        "id": "E83JJBEjU5mV",
        "outputId": "5334f6f4-39ad-47dc-9755-f7b96807ada2"
      },
      "execution_count": null,
      "outputs": [
        {
          "output_type": "stream",
          "name": "stdout",
          "text": [
            "Highest score achieved on: 0.633 using 15 as our k\n"
          ]
        }
      ]
    },
    {
      "cell_type": "markdown",
      "source": [
        "##Support Vector Machine"
      ],
      "metadata": {
        "id": "s-d35bRhjz5A"
      }
    },
    {
      "cell_type": "code",
      "source": [
        "from sklearn.svm import SVC"
      ],
      "metadata": {
        "id": "--kh4x98j4xj"
      },
      "execution_count": null,
      "outputs": []
    },
    {
      "cell_type": "code",
      "source": [
        "sscores = []\n",
        "for c in range(0,6):\n",
        "    svc = SVC(C = 10**c)\n",
        "    svc.fit(X_train, y_train)\n",
        "    i = svc.score(X_test, y_test)\n",
        "    sscores.append(i)\n",
        "print(sscores, end = ' ')"
      ],
      "metadata": {
        "colab": {
          "base_uri": "https://localhost:8080/"
        },
        "id": "1rK6-F5gj1ZP",
        "outputId": "18751fd9-2240-4830-d4e9-42d0e8e5d399"
      },
      "execution_count": null,
      "outputs": [
        {
          "output_type": "stream",
          "name": "stdout",
          "text": [
            "[0.6104651162790697, 0.5988372093023255, 0.6627906976744186, 0.5988372093023255, 0.5697674418604651, 0.563953488372093] "
          ]
        }
      ]
    },
    {
      "cell_type": "code",
      "source": [
        "svc2 = SVC(C = 1E3, kernel = 'rbf').fit(X_train, y_train)\n",
        "svc2.score(X_test, y_test)"
      ],
      "metadata": {
        "colab": {
          "base_uri": "https://localhost:8080/"
        },
        "id": "eOun16JBj8Pu",
        "outputId": "86b2da00-ff5f-48e7-cb21-b2159b28c25d"
      },
      "execution_count": null,
      "outputs": [
        {
          "output_type": "execute_result",
          "data": {
            "text/plain": [
              "0.5988372093023255"
            ]
          },
          "metadata": {},
          "execution_count": 49
        }
      ]
    }
  ]
}